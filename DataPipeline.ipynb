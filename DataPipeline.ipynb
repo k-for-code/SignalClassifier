{
 "cells": [
  {
   "cell_type": "code",
   "execution_count": 1,
   "source": [
    "import glob\r\n",
    "import os\r\n",
    "import pandas as pd\r\n",
    "import matplotlib.pyplot as plt\r\n",
    "%matplotlib inline\r\n",
    "import numpy as np\r\n",
    "# from matplotlib.pyplot import savefig"
   ],
   "outputs": [],
   "metadata": {}
  },
  {
   "cell_type": "code",
   "execution_count": 2,
   "source": [
    "local_path = r'C:\\Users\\kprajapati\\Downloads\\Dataset'"
   ],
   "outputs": [],
   "metadata": {}
  },
  {
   "cell_type": "code",
   "execution_count": 7,
   "source": [
    "'''\r\n",
    "Run this code in your free time, to verif if all the data we have collected is valid data, you will have to run the code , take a big nap and comeback\r\n",
    "to manuualy verify , if any anomaly exist, by that i men , if plot of any csv doesnot follow its peers pattern\r\n",
    "'''\r\n",
    "df = None\r\n",
    "nw_df = None\r\n",
    "rows = []\r\n",
    "d = None\r\n",
    "dates = os.listdir(os.path.join(local_path))\r\n",
    "for date in dates:\r\n",
    "    if os.path.isdir(os.path.join(local_path, date)):\r\n",
    "        participants = os.listdir(os.path.join(local_path, date))\r\n",
    "        for participant in participants:\r\n",
    "            if os.path.isdir(os.path.join(local_path, date, participant)):\r\n",
    "                gestures = os.listdir((os.path.join(local_path, date, participant)))\r\n",
    "                for gesture in gestures:\r\n",
    "                    if os.path.isdir(os.path.join(local_path, date, participant, gesture)):\r\n",
    "                        # building pattern for glob to catch the csv file name, its like regex\r\n",
    "                        pathname = local_path+'\\\\'+date+'\\\\'+participant+ '\\\\'+gesture+'\\\\'+'*.csv'\r\n",
    "                        csvs = glob.glob(pathname, recursive=True)\r\n",
    "                        # print(len(csvs))\r\n",
    "                        for i,csv in enumerate(csvs):\r\n",
    "\r\n",
    "                            # reading the csv\r\n",
    "                            df = pd.read_csv(csv, header=0, skip_blank_lines=True)\r\n",
    "\r\n",
    "                            # dropping first row as it shows unit\r\n",
    "                            df.drop([df.index[0]], inplace=True)\r\n",
    "\r\n",
    "                            # df = df[3000:8000]\r\n",
    "                            # converting everything from string to float\r\n",
    "                            df = df.applymap(lambda x : float(x))\r\n",
    "\r\n",
    "                            # compute features\r\n",
    "                            df['EWM_mean'] = df.iloc[:,1].ewm(span=200,adjust=True).mean()\r\n",
    "                            \r\n",
    "\r\n",
    "                            nw_df = df.T\r\n",
    "                            d = nw_df.iloc[2, :].to_dict()\r\n",
    "                            d['label'] = gesture\r\n",
    "                            rows.append(d)\r\n"
   ],
   "outputs": [],
   "metadata": {}
  },
  {
   "cell_type": "code",
   "execution_count": 8,
   "source": [
    "nw_df.head()"
   ],
   "outputs": [
    {
     "output_type": "execute_result",
     "data": {
      "text/plain": [
       "              1          2          3          4          5          6      \\\n",
       "Time        0.00000   0.000333   0.000667   0.001000   0.001333   0.001666   \n",
       "Channel A  82.50678  88.076420  87.466040  88.137450  78.341010  79.363380   \n",
       "EWM_mean   82.50678  85.305524  86.032910  86.566963  84.888705  83.944643   \n",
       "\n",
       "               7          8          9          10     ...      14997  \\\n",
       "Time        0.002000   0.002333   0.002666   0.003000  ...   4.998107   \n",
       "Channel A  87.969600  76.860860  69.765310  64.012570  ...  39.780880   \n",
       "EWM_mean   84.537029  83.543591  81.950723  80.075115  ...  81.537635   \n",
       "\n",
       "               14998      14999      15000      15001      15002      15003  \\\n",
       "Time        4.998440   4.998773   4.999107   4.999440   4.999773   5.000106   \n",
       "Channel A  41.093170  42.558060  41.169460  46.357610  48.203980  58.061460   \n",
       "EWM_mean   81.135202  80.751350  80.357500  80.019193  79.702624  79.487289   \n",
       "\n",
       "               15004      15005      15006  \n",
       "Time        5.000440   5.000773   5.001106  \n",
       "Channel A  76.326790  75.151820  77.120270  \n",
       "EWM_mean   79.455841  79.413015  79.390201  \n",
       "\n",
       "[3 rows x 15006 columns]"
      ],
      "text/html": [
       "<div>\n",
       "<style scoped>\n",
       "    .dataframe tbody tr th:only-of-type {\n",
       "        vertical-align: middle;\n",
       "    }\n",
       "\n",
       "    .dataframe tbody tr th {\n",
       "        vertical-align: top;\n",
       "    }\n",
       "\n",
       "    .dataframe thead th {\n",
       "        text-align: right;\n",
       "    }\n",
       "</style>\n",
       "<table border=\"1\" class=\"dataframe\">\n",
       "  <thead>\n",
       "    <tr style=\"text-align: right;\">\n",
       "      <th></th>\n",
       "      <th>1</th>\n",
       "      <th>2</th>\n",
       "      <th>3</th>\n",
       "      <th>4</th>\n",
       "      <th>5</th>\n",
       "      <th>6</th>\n",
       "      <th>7</th>\n",
       "      <th>8</th>\n",
       "      <th>9</th>\n",
       "      <th>10</th>\n",
       "      <th>...</th>\n",
       "      <th>14997</th>\n",
       "      <th>14998</th>\n",
       "      <th>14999</th>\n",
       "      <th>15000</th>\n",
       "      <th>15001</th>\n",
       "      <th>15002</th>\n",
       "      <th>15003</th>\n",
       "      <th>15004</th>\n",
       "      <th>15005</th>\n",
       "      <th>15006</th>\n",
       "    </tr>\n",
       "  </thead>\n",
       "  <tbody>\n",
       "    <tr>\n",
       "      <th>Time</th>\n",
       "      <td>0.00000</td>\n",
       "      <td>0.000333</td>\n",
       "      <td>0.000667</td>\n",
       "      <td>0.001000</td>\n",
       "      <td>0.001333</td>\n",
       "      <td>0.001666</td>\n",
       "      <td>0.002000</td>\n",
       "      <td>0.002333</td>\n",
       "      <td>0.002666</td>\n",
       "      <td>0.003000</td>\n",
       "      <td>...</td>\n",
       "      <td>4.998107</td>\n",
       "      <td>4.998440</td>\n",
       "      <td>4.998773</td>\n",
       "      <td>4.999107</td>\n",
       "      <td>4.999440</td>\n",
       "      <td>4.999773</td>\n",
       "      <td>5.000106</td>\n",
       "      <td>5.000440</td>\n",
       "      <td>5.000773</td>\n",
       "      <td>5.001106</td>\n",
       "    </tr>\n",
       "    <tr>\n",
       "      <th>Channel A</th>\n",
       "      <td>82.50678</td>\n",
       "      <td>88.076420</td>\n",
       "      <td>87.466040</td>\n",
       "      <td>88.137450</td>\n",
       "      <td>78.341010</td>\n",
       "      <td>79.363380</td>\n",
       "      <td>87.969600</td>\n",
       "      <td>76.860860</td>\n",
       "      <td>69.765310</td>\n",
       "      <td>64.012570</td>\n",
       "      <td>...</td>\n",
       "      <td>39.780880</td>\n",
       "      <td>41.093170</td>\n",
       "      <td>42.558060</td>\n",
       "      <td>41.169460</td>\n",
       "      <td>46.357610</td>\n",
       "      <td>48.203980</td>\n",
       "      <td>58.061460</td>\n",
       "      <td>76.326790</td>\n",
       "      <td>75.151820</td>\n",
       "      <td>77.120270</td>\n",
       "    </tr>\n",
       "    <tr>\n",
       "      <th>EWM_mean</th>\n",
       "      <td>82.50678</td>\n",
       "      <td>85.305524</td>\n",
       "      <td>86.032910</td>\n",
       "      <td>86.566963</td>\n",
       "      <td>84.888705</td>\n",
       "      <td>83.944643</td>\n",
       "      <td>84.537029</td>\n",
       "      <td>83.543591</td>\n",
       "      <td>81.950723</td>\n",
       "      <td>80.075115</td>\n",
       "      <td>...</td>\n",
       "      <td>81.537635</td>\n",
       "      <td>81.135202</td>\n",
       "      <td>80.751350</td>\n",
       "      <td>80.357500</td>\n",
       "      <td>80.019193</td>\n",
       "      <td>79.702624</td>\n",
       "      <td>79.487289</td>\n",
       "      <td>79.455841</td>\n",
       "      <td>79.413015</td>\n",
       "      <td>79.390201</td>\n",
       "    </tr>\n",
       "  </tbody>\n",
       "</table>\n",
       "<p>3 rows × 15006 columns</p>\n",
       "</div>"
      ]
     },
     "metadata": {},
     "execution_count": 8
    }
   ],
   "metadata": {}
  },
  {
   "cell_type": "code",
   "execution_count": 12,
   "source": [
    "df.head()"
   ],
   "outputs": [
    {
     "output_type": "execute_result",
     "data": {
      "text/plain": [
       "       Time  Channel A   EWM_mean\n",
       "1  0.000000   82.50678  82.506780\n",
       "2  0.000333   88.07642  85.305524\n",
       "3  0.000667   87.46604  86.032910\n",
       "4  0.001000   88.13745  86.566963\n",
       "5  0.001333   78.34101  84.888705"
      ],
      "text/html": [
       "<div>\n",
       "<style scoped>\n",
       "    .dataframe tbody tr th:only-of-type {\n",
       "        vertical-align: middle;\n",
       "    }\n",
       "\n",
       "    .dataframe tbody tr th {\n",
       "        vertical-align: top;\n",
       "    }\n",
       "\n",
       "    .dataframe thead th {\n",
       "        text-align: right;\n",
       "    }\n",
       "</style>\n",
       "<table border=\"1\" class=\"dataframe\">\n",
       "  <thead>\n",
       "    <tr style=\"text-align: right;\">\n",
       "      <th></th>\n",
       "      <th>Time</th>\n",
       "      <th>Channel A</th>\n",
       "      <th>EWM_mean</th>\n",
       "    </tr>\n",
       "  </thead>\n",
       "  <tbody>\n",
       "    <tr>\n",
       "      <th>1</th>\n",
       "      <td>0.000000</td>\n",
       "      <td>82.50678</td>\n",
       "      <td>82.506780</td>\n",
       "    </tr>\n",
       "    <tr>\n",
       "      <th>2</th>\n",
       "      <td>0.000333</td>\n",
       "      <td>88.07642</td>\n",
       "      <td>85.305524</td>\n",
       "    </tr>\n",
       "    <tr>\n",
       "      <th>3</th>\n",
       "      <td>0.000667</td>\n",
       "      <td>87.46604</td>\n",
       "      <td>86.032910</td>\n",
       "    </tr>\n",
       "    <tr>\n",
       "      <th>4</th>\n",
       "      <td>0.001000</td>\n",
       "      <td>88.13745</td>\n",
       "      <td>86.566963</td>\n",
       "    </tr>\n",
       "    <tr>\n",
       "      <th>5</th>\n",
       "      <td>0.001333</td>\n",
       "      <td>78.34101</td>\n",
       "      <td>84.888705</td>\n",
       "    </tr>\n",
       "  </tbody>\n",
       "</table>\n",
       "</div>"
      ]
     },
     "metadata": {},
     "execution_count": 12
    }
   ],
   "metadata": {}
  },
  {
   "cell_type": "code",
   "execution_count": 9,
   "source": [
    "reqd_df = pd.DataFrame(rows)"
   ],
   "outputs": [],
   "metadata": {}
  },
  {
   "cell_type": "code",
   "execution_count": 13,
   "source": [
    "reqd_df['label'] = reqd_df['label'].apply(lambda x:x.lower())"
   ],
   "outputs": [],
   "metadata": {}
  },
  {
   "cell_type": "code",
   "execution_count": 14,
   "source": [
    "reqd_df.to_csv('full_dataset.csv', index=False)"
   ],
   "outputs": [],
   "metadata": {}
  },
  {
   "cell_type": "code",
   "execution_count": 15,
   "source": [
    "reqd_df.shape"
   ],
   "outputs": [
    {
     "output_type": "execute_result",
     "data": {
      "text/plain": [
       "(1499, 15007)"
      ]
     },
     "metadata": {},
     "execution_count": 15
    }
   ],
   "metadata": {}
  },
  {
   "cell_type": "code",
   "execution_count": null,
   "source": [],
   "outputs": [],
   "metadata": {}
  }
 ],
 "metadata": {
  "orig_nbformat": 4,
  "language_info": {
   "name": "python",
   "version": "3.8.11",
   "mimetype": "text/x-python",
   "codemirror_mode": {
    "name": "ipython",
    "version": 3
   },
   "pygments_lexer": "ipython3",
   "nbconvert_exporter": "python",
   "file_extension": ".py"
  },
  "kernelspec": {
   "name": "python3",
   "display_name": "Python 3.8.11 64-bit ('eagle_labs': conda)"
  },
  "interpreter": {
   "hash": "cb14f38eb9dbddad9e02f7f9fcc4764c3f951d30ef892449ff63fbb4eacc0eb1"
  }
 },
 "nbformat": 4,
 "nbformat_minor": 2
}